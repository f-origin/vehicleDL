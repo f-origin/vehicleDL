{
 "cells": [
  {
   "cell_type": "code",
   "execution_count": 1,
   "metadata": {},
   "outputs": [
    {
     "ename": "SyntaxError",
     "evalue": "invalid syntax (<ipython-input-1-5887b3f5223f>, line 1)",
     "output_type": "error",
     "traceback": [
      "\u001b[0;36m  File \u001b[0;32m\"<ipython-input-1-5887b3f5223f>\"\u001b[0;36m, line \u001b[0;32m1\u001b[0m\n\u001b[0;31m    python3 object_detection/dataset_tools/create_my_tf_record.py \\\u001b[0m\n\u001b[0m                           ^\u001b[0m\n\u001b[0;31mSyntaxError\u001b[0m\u001b[0;31m:\u001b[0m invalid syntax\n"
     ]
    }
   ],
   "source": [
    "python3 object_detection/dataset_tools/create_my_tf_record.py \\\n",
    "    --label_map_path=/home/david/tmp/VOC2012/my_label_map.pbtxt \\\n",
    "    --data_dir=/home/david/tmp/VOC2012 \\\n",
    "    --num_shards=2 \\\n",
    "    --output_dir=/home/david/tmp/VOC2012"
   ]
  },
  {
   "cell_type": "code",
   "execution_count": null,
   "metadata": {},
   "outputs": [],
   "source": [
    "#!/bin/bash\n",
    "# 查找脚本所在路径，并进入\n",
    "#DIR=\"$( cd \"$( dirname \"$0\"  )\" && pwd  )\"\n",
    "DIR=$PWD\n",
    "cd $DIR\n",
    "echo current dir is $PWD\n",
    "\n",
    "# 设置目录，避免module找不到的问题\n",
    "export PYTHONPATH=$PYTHONPATH:$DIR:$DIR/slim:$DIR/object_detection\n",
    "\n",
    "# 定义各目录\n",
    "output_dir=/home/david/tmp/VOC2012-model  # 训练目录\n",
    "dataset_dir=/home/david/tmp/VOC2012 # 数据集目录，这里是写死的，记得修改\n",
    "\n",
    "\n",
    "PIPELINE_CONFIG_PATH=${dataset_dir}/ssd_mobilenet_v1_my.config\n",
    "MODEL_DIR=${output_dir}/model\n",
    "NUM_TRAIN_STEPS=5000\n",
    "SAMPLE_1_OF_N_EVAL_EXAMPLES=1\n",
    "\n",
    "echo \"############ train & eval #################\"\n",
    "python3 object_detection/model_main.py \\\n",
    "    --pipeline_config_path=${PIPELINE_CONFIG_PATH} \\\n",
    "    --model_dir=${MODEL_DIR} \\\n",
    "    --num_train_steps=${NUM_TRAIN_STEPS} \\\n",
    "    --sample_1_of_n_eval_examples=${SAMPLE_1_OF_N_EVAL_EXAMPLES} \\\n",
    "    --alsologtostderr\n",
    "\n",
    "echo \"############ export #################\"\n",
    "# 导出模型\n",
    "python3 object_detection/export_inference_graph.py \\\n",
    "    --input_type=image_tensor \\\n",
    "    --pipeline_config_path=${PIPELINE_CONFIG_PATH} \\\n",
    "    --trained_checkpoint_prefix=${MODEL_DIR}/model.ckpt-${NUM_TRAIN_STEPS} \\\n",
    "    --output_directory=${output_dir}/exported_graphs\n",
    "    \n",
    "echo \"############ inference #################\"\n",
    "# 在test.jpg上验证导出的模型\n",
    "python3 inference.py --output_dir=${output_dir} --dataset_dir=${dataset_dir}"
   ]
  }
 ],
 "metadata": {
  "kernelspec": {
   "display_name": "Python 3",
   "language": "python",
   "name": "python3"
  },
  "language_info": {
   "codemirror_mode": {
    "name": "ipython",
    "version": 3
   },
   "file_extension": ".py",
   "mimetype": "text/x-python",
   "name": "python",
   "nbconvert_exporter": "python",
   "pygments_lexer": "ipython3",
   "version": "3.6.7"
  }
 },
 "nbformat": 4,
 "nbformat_minor": 2
}
